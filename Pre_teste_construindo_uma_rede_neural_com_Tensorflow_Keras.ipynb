{
  "nbformat": 4,
  "nbformat_minor": 0,
  "metadata": {
    "colab": {
      "provenance": [],
      "authorship_tag": "ABX9TyP+UOkQUziPJjQsdtqDJw/w",
      "include_colab_link": true
    },
    "kernelspec": {
      "name": "python3",
      "display_name": "Python 3"
    },
    "language_info": {
      "name": "python"
    }
  },
  "cells": [
    {
      "cell_type": "markdown",
      "metadata": {
        "id": "view-in-github",
        "colab_type": "text"
      },
      "source": [
        "<a href=\"https://colab.research.google.com/github/oakthyago/Alura/blob/main/Pre_teste_construindo_uma_rede_neural_com_Tensorflow_Keras.ipynb\" target=\"_parent\"><img src=\"https://colab.research.google.com/assets/colab-badge.svg\" alt=\"Open In Colab\"/></a>"
      ]
    },
    {
      "cell_type": "code",
      "execution_count": null,
      "metadata": {
        "id": "DrswSBoNpIIo"
      },
      "outputs": [],
      "source": []
    },
    {
      "cell_type": "markdown",
      "source": [
        "\n",
        "\n",
        "considerando pre teste o conjunto de questões iniciais de um estudo antes do estudante ter conhecimento total do assunto. elabore 5 questões que traram o conceito geral do curso, multipla escolha e sem o gabarito\n",
        "\n",
        "Olá! Que tal testarmos seus conhecimentos antes de mergulharmos mais fundo? Preparei 5 questões de múltipla escolha para avaliarmos seu entendimento geral sobre redes neurais e o que aprenderemos no curso. Lembre-se, este é um pré-teste, então não se preocupe em errar! O objetivo é identificarmos seus pontos fortes e onde podemos focar mais. Vamos lá?\n",
        "\n",
        "    Qual a unidade fundamental de uma rede neural artificial?\n",
        "    a) Algoritmo\n",
        "    xb) Neurônio\n",
        "    c) Camada Oculta\n",
        "    d) Função de Ativação\n",
        "\n",
        "    O que representa o peso em um neurônio artificial?\n",
        "\n",
        "    a) A saída do neurônio.\n",
        "    xb) A importância relativa de uma entrada.\n",
        "    c) O número de neurônios na camada.\n",
        "    d) O tipo de função de ativação utilizada.\n",
        "\n",
        "    Qual o principal tipo de problema que um único perceptron (neurônio) consegue resolver?\n",
        "    a) Problemas não-lineares complexos.\n",
        "    xb) Problemas lineares.\n",
        "    c) Problemas de classificação com múltiplas classes.\n",
        "    d) Problemas de regressão.\n",
        "\n",
        "    Para resolver problemas não-lineares, qual a estratégia mais comum utilizada em redes neurais?\n",
        "    a) Utilizar apenas uma camada de entrada.\n",
        "    xb) Utilizar múltiplas camadas de neurônios (MLP).\n",
        "    c) Aumentar o peso das entradas.\n",
        "    d) Mudar a função de ativação para uma linear.\n",
        "\n",
        "    No processo de aprendizado de uma MLP, o \"backpropagation\" se refere a:\n",
        "    xa) A propagação da informação da camada de saída para a camada de entrada.\n",
        "    b) A escolha da função de ativação.\n",
        "    c) A definição dos pesos iniciais dos neurônios.\n",
        "    d) A propagação da informação da camada de entrada para a camada de saída.\n",
        "\n",
        "Depois de responder, podemos discutir suas escolhas e esclarecer quaisquer dúvidas que você tenha. Boa sorte!"
      ],
      "metadata": {
        "id": "QH8q3JmbpSpF"
      }
    },
    {
      "cell_type": "code",
      "source": [
        "# prompt: gere o gabarito com e diga as que aceitei e errei\n",
        "\n",
        "# Gabarito do Pré-Teste de Redes Neurais\n",
        "\n",
        "1. Qual a unidade fundamental de uma rede neural artificial?\n",
        "   Resposta correta: **b) Neurônio**\n",
        "\n",
        "2. O que representa o peso em um neurônio artificial?\n",
        "   Resposta correta: **b) A importância relativa de uma entrada.**\n",
        "\n",
        "3. Qual o principal tipo de problema que um único perceptron (neurônio) consegue resolver?\n",
        "   Resposta correta: **b) Problemas lineares.**\n",
        "\n",
        "4. Para resolver problemas não-lineares, qual a estratégia mais comum utilizada em redes neurais?\n",
        "   Resposta correta: **b) Utilizar múltiplas camadas de neurônios (MLP).**\n",
        "\n",
        "5. No processo de aprendizado de uma MLP, o \"backpropagation\" se refere a:\n",
        "   Resposta correta: **a) A propagação da informação da camada de saída para a camada de entrada.**\n",
        "\n",
        "\n",
        "# Respostas do Usuário (Preencha com as respostas dadas)\n",
        "\n",
        "\n",
        "# Comparação e Resultado\n",
        "\n",
        "# (Para usar, substitua as letras pelas respostas do usuário)\n",
        "\n",
        "# Questão 1:  Resposta do Usuário: (a/b/c/d)  => Correta/Incorreta\n",
        "# Questão 2:  Resposta do Usuário: (a/b/c/d)  => Correta/Incorreta\n",
        "# Questão 3:  Resposta do Usuário: (a/b/c/d)  => Correta/Incorreta\n",
        "# Questão 4:  Resposta do Usuário: (a/b/c/d)  => Correta/Incorreta\n",
        "# Questão 5:  Resposta do Usuário: (a/b/c/d)  => Correta/Incorreta\n",
        "\n",
        "\n",
        "# Total de acertos: (calcular com base nas respostas acima)\n",
        "# Total de erros: (calcular com base nas respostas acima)\n"
      ],
      "metadata": {
        "id": "3WRBKeH6pZUU"
      },
      "execution_count": null,
      "outputs": []
    },
    {
      "cell_type": "markdown",
      "source": [
        "\n",
        "\n",
        "    Em uma MLP (Multilayer Perceptron), a função de ativação desempenha um papel crucial. Qual das alternativas abaixo NÃO descreve corretamente uma função de sua atuação?\n",
        "\n",
        "    A) Introduz não-linearidade no modelo, permitindo a resolução de problemas não-lineares.\n",
        "    XB) Transforma a soma ponderada das entradas em uma saída.\n",
        "    C) Define diretamente os pesos sinápticos entre os neurônios.\n",
        "    D) Determina a ativação ou não de um neurônio, influenciando a saída final.\n",
        "    E) Pode influenciar a velocidade e a eficiência do treinamento da rede.\n",
        "\n",
        "    O processo de backpropagation é fundamental para o aprendizado em uma MLP. Qual afirmação melhor descreve sua função principal?\n",
        "\n",
        "    A) Define a arquitetura da rede neural, incluindo o número de camadas e neurônios.\n",
        "    B) Calcula a saída da rede neural para um dado conjunto de entradas.\n",
        "    XC) Propaga o erro da saída de volta para as camadas anteriores, ajustando os pesos para minimizar o erro.\n",
        "    D) Seleciona a função de ativação mais adequada para cada camada da rede.\n",
        "    E) Inicializa os pesos sinápticos da rede com valores aleatórios.\n",
        "\n",
        "    Considere uma MLP com uma camada de entrada, duas camadas ocultas e uma camada de saída. Qual das seguintes afirmações sobre a propagação feedforward é verdadeira?\n",
        "\n",
        "    A) A informação flui da camada de saída para a camada de entrada.\n",
        "    B) Os pesos são ajustados durante a propagação feedforward.\n",
        "    XC) A informação é processada sequencialmente, passando de uma camada para a seguinte.\n",
        "    D) O erro é calculado e propagado de volta durante a propagação feedforward.\n",
        "    E) A função de ativação não é utilizada durante a propagação feedforward.\n",
        "\n",
        "    Qual das seguintes analogias melhor representa o papel dos pesos sinápticos em um neurônio artificial?\n",
        "\n",
        "    A) A intensidade do sinal emitido pelo neurônio.\n",
        "    B) O tipo de informação processada pelo neurônio.\n",
        "    XC) A força da conexão entre os neurônios.\n",
        "    D) A função de ativação utilizada pelo neurônio.\n",
        "    E) O número de entradas recebidas pelo neurônio.\n",
        "\n",
        "    Um perceptron simples (um único neurônio) tem limitações em sua capacidade de resolver problemas. Qual tipo de problema ele geralmente não consegue resolver?\n",
        "\n",
        "    A) Problemas de classificação binária linearmente separáveis.\n",
        "    B) Problemas de regressão linear simples.\n",
        "    C) Problemas de classificação com múltiplas classes linearmente separáveis.\n",
        "    XD) Problemas de classificação não-linearmente separáveis.\n",
        "    E) Problemas de previsão com dados numéricos contínuos linearmente separáveis.\n"
      ],
      "metadata": {
        "id": "i7-FVhqBrHek"
      }
    },
    {
      "cell_type": "code",
      "source": [
        "# prompt: url = 'https://raw.githubusercontent.com/alura-cursos/Live-coding-alura-keras/refs/heads/main/novas_notas.csv'\n",
        "# url_novos = 'https://raw.githubusercontent.com/alura-cursos/Live-coding-alura-keras/refs/heads/main/novas_notas.csv'\n",
        "\n",
        "import pandas as pd\n",
        "\n",
        "url = 'https://raw.githubusercontent.com/alura-cursos/Live-coding-alura-keras/refs/heads/main/novas_notas.csv'\n",
        "url_novos = 'https://raw.githubusercontent.com/alura-cursos/Live-coding-alura-keras/refs/heads/main/novas_notas.csv'\n",
        "\n",
        "try:\n",
        "  df = pd.read_csv(url)\n",
        "  print(\"Dataframe created successfully from URL:\", url)\n",
        "except Exception as e:\n",
        "  print(f\"Error reading data from {url}: {e}\")\n",
        "  print(\"Attempting to read from alternative URL:\", url_novos)\n",
        "\n",
        "  try:\n",
        "    df = pd.read_csv(url_novos)\n",
        "    print(\"Dataframe created successfully from alternative URL:\", url_novos)\n",
        "  except Exception as e:\n",
        "    print(f\"Error reading data from {url_novos}: {e}\")\n",
        "    df = None\n",
        "\n",
        "\n",
        "if df is not None:\n",
        "  print(df.head()) # Print the first few rows of the dataframe\n",
        "else:\n",
        "  print(\"Could not create dataframe.\")"
      ],
      "metadata": {
        "colab": {
          "base_uri": "https://localhost:8080/"
        },
        "id": "w3L4HTXAuIc3",
        "outputId": "e67f2449-cbba-4085-82cf-5c843a9779f2"
      },
      "execution_count": 1,
      "outputs": [
        {
          "output_type": "stream",
          "name": "stdout",
          "text": [
            "Dataframe created successfully from URL: https://raw.githubusercontent.com/alura-cursos/Live-coding-alura-keras/refs/heads/main/novas_notas.csv\n",
            "   Variância  Assimetria  Curtose  Entropia\n",
            "0     2.2504      3.5757  0.35273    0.2836\n",
            "1    -1.3971      3.3191 -1.39270   -1.9948\n"
          ]
        }
      ]
    }
  ]
}